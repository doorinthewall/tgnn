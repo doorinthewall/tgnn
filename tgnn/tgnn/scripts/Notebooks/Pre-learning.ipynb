{
 "cells": [
  {
   "cell_type": "code",
   "execution_count": 1,
   "id": "nuclear-neighborhood",
   "metadata": {},
   "outputs": [],
   "source": [
    "%config Completer.use_jedi = False\n",
    "%load_ext autoreload\n",
    "%autoreload 2"
   ]
  },
  {
   "cell_type": "code",
   "execution_count": 2,
   "id": "chemical-difference",
   "metadata": {},
   "outputs": [],
   "source": [
    "import os, sys\n",
    "import seaborn as sns\n",
    "import numpy as np\n",
    "from collections import defaultdict"
   ]
  },
  {
   "cell_type": "code",
   "execution_count": 3,
   "id": "hazardous-consultation",
   "metadata": {},
   "outputs": [
    {
     "name": "stderr",
     "output_type": "stream",
     "text": [
      "Using backend: pytorch\n"
     ]
    }
   ],
   "source": [
    "import matplotlib.pyplot as plt\n",
    "\n",
    "sys.path.append('../experimental_sripts')\n",
    "\n",
    "sys.path.append('/home/Container/tgnn/scripts/Models/BGNN_extended.py')\n",
    "\n",
    "import pandas as pd\n",
    "import json\n",
    "\n",
    "from run import aggregate_results, get_name"
   ]
  },
  {
   "cell_type": "code",
   "execution_count": 4,
   "id": "compressed-mexico",
   "metadata": {},
   "outputs": [],
   "source": [
    "def get_best_name(seed_results, seed, pattern=None, bgnn_style=False):\n",
    "    res = seed_results[seed]\n",
    "    if pattern is not None:\n",
    "        res = {x: res[x] for x in filter(lambda x: pattern in x, res)}\n",
    "            \n",
    "    if bgnn_style:\n",
    "        return min(res, key=lambda x: res[x][0][1])\n",
    "    return min(res, key=lambda x: res[x][1])"
   ]
  },
  {
   "cell_type": "code",
   "execution_count": 5,
   "id": "elect-basis",
   "metadata": {},
   "outputs": [],
   "source": [
    "with open('/home/Container/tgnn/scripts/experimental_sripts/results2/bgnn_pre_learning/seed_results.json', 'r') as fp:\n",
    "    bgnn_not_pre_learned_seed = json.load(fp)\n",
    "\n",
    "with open(f'../experimental_sripts/results2/bgnn_pre_learning/0/{get_best_name(bgnn_not_pre_learned_seed, \"0\", \"only_gbdtTrue\", bgnn_style=True)}.txt', 'r') as fp:\n",
    "    bgnn_not_pre_learned_loss = fp.readline()\n",
    "    bgnn_not_pre_learned_loss = np.array(eval(' '.join(bgnn_not_pre_learned_loss.split()[1:])))"
   ]
  },
  {
   "cell_type": "code",
   "execution_count": 6,
   "id": "adequate-region",
   "metadata": {},
   "outputs": [],
   "source": [
    "with open('/home/Container/bgnn/results/house/26_02/seed_results.json', 'r') as fp:\n",
    "    bgnn_seed = json.load(fp)\n",
    "    \n",
    "with open(f'/home/Container/bgnn/results/house/26_02/0/{get_best_name(bgnn_seed, \"0\", bgnn_style=True)}.txt', 'r') as fp:\n",
    "    bgnn_loss = fp.readline()\n",
    "    bgnn_loss = np.array(eval(' '.join(bgnn_loss.split()[1:])))"
   ]
  },
  {
   "cell_type": "code",
   "execution_count": 7,
   "id": "vanilla-toyota",
   "metadata": {},
   "outputs": [],
   "source": [
    "with open('../experimental_sripts/results2/house/MGBDT/MGBDT-loss_test.json', 'r') as fp:\n",
    "    MGBDT_results_prev = np.array(json.load(fp))"
   ]
  },
  {
   "cell_type": "code",
   "execution_count": 8,
   "id": "stainless-paradise",
   "metadata": {},
   "outputs": [],
   "source": [
    "with open('../experimental_sripts/mgbdt_results/MGBDT-loss_test.json', 'r') as fp:\n",
    "    MGBDT_results = np.array(json.load(fp))"
   ]
  },
  {
   "cell_type": "code",
   "execution_count": 9,
   "id": "destroyed-bumper",
   "metadata": {},
   "outputs": [],
   "source": [
    "sns.set()"
   ]
  },
  {
   "cell_type": "code",
   "execution_count": 10,
   "id": "hazardous-canberra",
   "metadata": {},
   "outputs": [],
   "source": [
    "def put_data_to_dict(loss, dicct, isgnn=False, name=None):\n",
    "    data_to_draw = dicct\n",
    "#     import pdb; pdb.set_trace()\n",
    "    n = len(loss)\n",
    "    data_to_draw['x'] += list(range(len(loss)))\n",
    "    data_to_draw['y']+= list(loss[:, 2])\n",
    "    data_to_draw['name'] += [name]*n\n",
    "    data_to_draw['prelearned'] += [isgnn]*n"
   ]
  },
  {
   "cell_type": "code",
   "execution_count": 11,
   "id": "reduced-parent",
   "metadata": {
    "scrolled": true
   },
   "outputs": [],
   "source": [
    "data_to_draw=defaultdict(list)"
   ]
  },
  {
   "cell_type": "code",
   "execution_count": 12,
   "id": "organic-collective",
   "metadata": {},
   "outputs": [],
   "source": [
    "put_data_to_dict(MGBDT_results, data_to_draw, isgnn=True, name='MGBDT')\n",
    "put_data_to_dict(MGBDT_results_prev, data_to_draw, isgnn=False, name='MGBDT')\n",
    "put_data_to_dict(bgnn_loss, data_to_draw, isgnn=True, name='BGNN')\n",
    "put_data_to_dict(bgnn_not_pre_learned_loss, data_to_draw, isgnn=False, name='BGNN')"
   ]
  },
  {
   "cell_type": "code",
   "execution_count": 13,
   "id": "southeast-twenty",
   "metadata": {},
   "outputs": [
    {
     "data": {
      "image/png": "[encoded data removed]",
      "text/plain": [
       "<Figure size 432x288 with 1 Axes>"
      ]
     },
     "metadata": {},
     "output_type": "display_data"
    }
   ],
   "source": [
    "# plt.figure(figsize=(15,10))\n",
    "sns.lineplot(data=data_to_draw, x='x', y='y', hue='name', style='prelearned')\n",
    "plt.xlim(1e0, 1e3)\n",
    "# plt.ylim(0.4, 2.0)\n",
    "plt.xscale('log')\n",
    "plt.ylabel('RMSE')\n",
    "plt.xlabel('')\n",
    "plt.savefig('/home/Container/pics/Pre_learning.pdf', format='pdf', bbox_inches='tight')"
   ]
  },
  {
   "cell_type": "code",
   "execution_count": 10,
   "id": "reduced-vietnam",
   "metadata": {},
   "outputs": [
    {
     "name": "stderr",
     "output_type": "stream",
     "text": [
      "/home/Container/envs/bgnn_env/lib/python3.6/site-packages/seaborn/_decorators.py:43: FutureWarning: Pass the following variables as keyword args: x, y. From version 0.12, the only valid positional argument will be `data`, and passing other arguments without an explicit keyword will result in an error or misinterpretation.\n",
      "  FutureWarning\n",
      "/home/Container/envs/bgnn_env/lib/python3.6/site-packages/seaborn/_decorators.py:43: FutureWarning: Pass the following variables as keyword args: x, y. From version 0.12, the only valid positional argument will be `data`, and passing other arguments without an explicit keyword will result in an error or misinterpretation.\n",
      "  FutureWarning\n",
      "/home/Container/envs/bgnn_env/lib/python3.6/site-packages/seaborn/_decorators.py:43: FutureWarning: Pass the following variables as keyword args: x, y. From version 0.12, the only valid positional argument will be `data`, and passing other arguments without an explicit keyword will result in an error or misinterpretation.\n",
      "  FutureWarning\n",
      "/home/Container/envs/bgnn_env/lib/python3.6/site-packages/seaborn/_decorators.py:43: FutureWarning: Pass the following variables as keyword args: x, y. From version 0.12, the only valid positional argument will be `data`, and passing other arguments without an explicit keyword will result in an error or misinterpretation.\n",
      "  FutureWarning\n"
     ]
    },
    {
     "data": {
      "image/png": "[encoded data removed]",
      "text/plain": [
       "<Figure size 432x288 with 1 Axes>"
      ]
     },
     "metadata": {},
     "output_type": "display_data"
    }
   ],
   "source": [
    "x = np.arange(len(MGBDT_results))\n",
    "y = MGBDT_results[:,2]\n",
    "sns.lineplot(x,y, label='MGBDT')\n",
    "\n",
    "y = MGBDT_results_prev[:,2]\n",
    "x = np.arange(len(MGBDT_results_prev))\n",
    "sns.lineplot(x,y, label='MGBDT not prelearned')\n",
    "\n",
    "x = np.arange(len(bgnn_loss))\n",
    "y = bgnn_loss[:,2]\n",
    "sns.lineplot(x,y, label='BGNN')\n",
    "\n",
    "x = np.arange(len(bgnn_not_pre_learned_loss))\n",
    "y = bgnn_not_pre_learned_loss[:,2]\n",
    "sns.lineplot(x,y, label='BGNN not prelearned')\n",
    "\n",
    "plt.xlim(1e0, 1e3)\n",
    "plt.xscale('log')\n",
    "plt.ylabel('Loss')\n",
    "plt.savefig('/home/Container/pics/Pre_learning.pdf', format='pdf', bbox_inches='tight')"
   ]
  }
 ],
 "metadata": {
  "kernelspec": {
   "display_name": "bgnn_env",
   "language": "python",
   "name": "bgnn_env"
  },
  "language_info": {
   "codemirror_mode": {
    "name": "ipython",
    "version": 3
   },
   "file_extension": ".py",
   "mimetype": "text/x-python",
   "name": "python",
   "nbconvert_exporter": "python",
   "pygments_lexer": "ipython3",
   "version": "3.6.9"
  }
 },
 "nbformat": 4,
 "nbformat_minor": 5
}
