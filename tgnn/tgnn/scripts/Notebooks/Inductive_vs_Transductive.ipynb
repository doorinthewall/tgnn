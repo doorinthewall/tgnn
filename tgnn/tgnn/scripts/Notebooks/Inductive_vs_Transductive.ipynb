{
 "cells": [
  {
   "cell_type": "code",
   "execution_count": 2,
   "id": "distributed-trade",
   "metadata": {},
   "outputs": [],
   "source": [
    "%config Completer.use_jedi = False\n",
    "%load_ext autoreload\n",
    "%autoreload 2"
   ]
  },
  {
   "cell_type": "code",
   "execution_count": 3,
   "id": "built-exception",
   "metadata": {},
   "outputs": [],
   "source": [
    "import os, sys\n",
    "import seaborn as sns\n",
    "import numpy as np\n",
    "from collections import defaultdict"
   ]
  },
  {
   "cell_type": "code",
   "execution_count": 4,
   "id": "nutritional-appearance",
   "metadata": {},
   "outputs": [
    {
     "name": "stderr",
     "output_type": "stream",
     "text": [
      "Using backend: pytorch\n"
     ]
    }
   ],
   "source": [
    "import matplotlib.pyplot as plt\n",
    "\n",
    "sys.path.append('../experimental_sripts')\n",
    "\n",
    "sys.path.append('/home/Container/tgnn/scripts/Models/BGNN_extended.py')\n",
    "\n",
    "import pandas as pd\n",
    "import json\n",
    "\n",
    "from run import aggregate_results, get_name"
   ]
  },
  {
   "cell_type": "code",
   "execution_count": 5,
   "id": "civic-advertising",
   "metadata": {},
   "outputs": [],
   "source": [
    "strfy = lambda x: f'{x:.3f}'"
   ]
  },
  {
   "cell_type": "code",
   "execution_count": 6,
   "id": "egyptian-secretary",
   "metadata": {},
   "outputs": [],
   "source": [
    "def highlight_min(s):\n",
    "#     import pdb; pdb.set_trace()\n",
    "    s = s.apply(lambda x : float(x.split(' ')[0]))\n",
    "    return ['color: green' if i == 1 else 'color: balck' for i in s.rank(method='dense')]"
   ]
  },
  {
   "cell_type": "code",
   "execution_count": 7,
   "id": "connected-chance",
   "metadata": {},
   "outputs": [],
   "source": [
    "with open('/home/Container/tgnn/scripts/experimental_sripts/results5/bgnn_extended/seed_results.json', 'r') as fp:\n",
    "    BGNN_inductive_seed = json.load(fp)"
   ]
  },
  {
   "cell_type": "code",
   "execution_count": 8,
   "id": "comfortable-winning",
   "metadata": {},
   "outputs": [],
   "source": [
    "seed_path_stochastic = '/home/Container/tgnn/scripts/experimental_sripts/results5/bgnn_extended/seed_results.json'"
   ]
  },
  {
   "cell_type": "code",
   "execution_count": 9,
   "id": "limited-exemption",
   "metadata": {},
   "outputs": [],
   "source": [
    "seed_path = '/home/Container/tgnn/scripts/experimental_sripts/results5/bgnn_extended/seed_results.json'"
   ]
  },
  {
   "cell_type": "code",
   "execution_count": 10,
   "id": "behavioral-rebound",
   "metadata": {
    "scrolled": true
   },
   "outputs": [
    {
     "data": {
      "text/plain": [
       "{'bgnn_gat_0.0_10_True_0.01': (0.5209483981132508, 0.0060336735584297215),\n",
       " 'bgnn_gat_0.0_10_True_0.1': (0.5297781825065613, 0.009690279890048212),\n",
       " 'bgnn_gat_0.0_20_True_0.01': (0.5228357076644897, 0.009906276535143815),\n",
       " 'bgnn_gat_0.0_20_True_0.1': (0.5271485805511474, 0.008072237420971923)}"
      ]
     },
     "execution_count": 10,
     "metadata": {},
     "output_type": "execute_result"
    }
   ],
   "source": [
    "aggregate_results(seed_path, 'regression', bgnn_style=True, filt=None)"
   ]
  },
  {
   "cell_type": "code",
   "execution_count": 11,
   "id": "powered-villa",
   "metadata": {},
   "outputs": [],
   "source": [
    "MGBDT_seed_path = '/home/Container/tgnn/scripts/experimental_sripts/results5/house/MGBDT/seed_results.json'"
   ]
  },
  {
   "cell_type": "code",
   "execution_count": 12,
   "id": "endangered-coordination",
   "metadata": {},
   "outputs": [],
   "source": [
    "with open(MGBDT_seed_path, 'r') as fp:\n",
    "    mgbdt_seed = json.load(fp)"
   ]
  },
  {
   "cell_type": "code",
   "execution_count": 17,
   "id": "every-curtis",
   "metadata": {
    "scrolled": false
   },
   "outputs": [],
   "source": [
    "mgbdt_inductive = aggregate_results(MGBDT_seed_path, 'regression', bgnn_style=False)"
   ]
  },
  {
   "cell_type": "code",
   "execution_count": 18,
   "id": "immune-lightweight",
   "metadata": {
    "scrolled": false
   },
   "outputs": [],
   "source": [
    "mgbdt_inductive_stochastic = aggregate_results(MGBDT_seed_path, 'regression',\\\n",
    "                                               bgnn_style=False, filt='stochastic')"
   ]
  },
  {
   "cell_type": "code",
   "execution_count": 19,
   "id": "continent-terrorism",
   "metadata": {},
   "outputs": [],
   "source": [
    "BGNN_inductive_path = '/home/Container/tgnn/scripts/experimental_sripts/results5/bgnn_inductive/seed_results.json'"
   ]
  },
  {
   "cell_type": "code",
   "execution_count": 20,
   "id": "contemporary-biotechnology",
   "metadata": {
    "scrolled": true
   },
   "outputs": [],
   "source": [
    "bgnn_inductive = aggregate_results(BGNN_inductive_path, 'regression', bgnn_style=True)"
   ]
  },
  {
   "cell_type": "code",
   "execution_count": 21,
   "id": "commercial-disney",
   "metadata": {},
   "outputs": [],
   "source": [
    "BGNN_inductive_stochastic_path = '/home/Container/tgnn/scripts/experimental_sripts/results5/bgnn_extended/seed_results.json'"
   ]
  },
  {
   "cell_type": "code",
   "execution_count": 22,
   "id": "educated-genome",
   "metadata": {
    "scrolled": false
   },
   "outputs": [],
   "source": [
    "bgnn_inductive_stochastic = aggregate_results(BGNN_inductive_stochastic_path, 'regression', bgnn_style=True)"
   ]
  },
  {
   "cell_type": "code",
   "execution_count": 23,
   "id": "wireless-lover",
   "metadata": {},
   "outputs": [
    {
     "data": {
      "text/plain": [
       "{'bgnn_gat_0.0_10_True_0.01': (0.5209483981132508, 0.0060336735584297215),\n",
       " 'bgnn_gat_0.0_10_True_0.1': (0.5297781825065613, 0.009690279890048212),\n",
       " 'bgnn_gat_0.0_20_True_0.01': (0.5228357076644897, 0.009906276535143815),\n",
       " 'bgnn_gat_0.0_20_True_0.1': (0.5271485805511474, 0.008072237420971923)}"
      ]
     },
     "execution_count": 23,
     "metadata": {},
     "output_type": "execute_result"
    }
   ],
   "source": [
    "bgnn_inductive_stochastic"
   ]
  },
  {
   "cell_type": "code",
   "execution_count": 21,
   "id": "atomic-feelings",
   "metadata": {},
   "outputs": [],
   "source": [
    "def get_min_key(ddict):\n",
    "    return min(ddict, key=lambda x: ddict[x][0])"
   ]
  },
  {
   "cell_type": "code",
   "execution_count": 22,
   "id": "material-alarm",
   "metadata": {},
   "outputs": [],
   "source": [
    "comparison_data = {'bgnn_inductive_stochastic':bgnn_inductive_stochastic,\n",
    "                  'bgnn_inductive':bgnn_inductive,\n",
    "                  'mgbdt_inductive':mgbdt_inductive,\n",
    "                  'mgbdt_inductive_stochastic':mgbdt_inductive_stochastic}"
   ]
  },
  {
   "cell_type": "code",
   "execution_count": 70,
   "id": "optional-mobility",
   "metadata": {},
   "outputs": [],
   "source": [
    "comparison_dataset = defaultdict(list)\n",
    "for key in comparison_data:\n",
    "    comparison_dataset['stochastic'] += ['stochastic' in key]\n",
    "    data = comparison_data[key]\n",
    "    mean, std = data[get_min_key(data)]\n",
    "    comparison_dataset['rmse'] += [strfy(mean) + ' ± ' + strfy(std)]\n",
    "    comparison_dataset['name'] += [key.split('_')[0]]"
   ]
  },
  {
   "cell_type": "code",
   "execution_count": 71,
   "id": "actual-supervision",
   "metadata": {
    "scrolled": false
   },
   "outputs": [
    {
     "data": {
      "text/plain": [
       "defaultdict(list,\n",
       "            {'stochastic': [True, False, False, True],\n",
       "             'rmse': ['0.521 ± 0.006',\n",
       "              '0.509 ± 0.008',\n",
       "              '0.503 ± 0.012',\n",
       "              '0.520 ± 0.010'],\n",
       "             'name': ['bgnn', 'bgnn', 'mgbdt', 'mgbdt']})"
      ]
     },
     "execution_count": 71,
     "metadata": {},
     "output_type": "execute_result"
    }
   ],
   "source": [
    "comparison_dataset"
   ]
  },
  {
   "cell_type": "code",
   "execution_count": 72,
   "id": "coordinated-egypt",
   "metadata": {},
   "outputs": [],
   "source": [
    "comparison_dataset = pd.DataFrame(comparison_dataset).pivot('name', 'stochastic', 'rmse')"
   ]
  },
  {
   "cell_type": "code",
   "execution_count": 74,
   "id": "composed-candy",
   "metadata": {
    "scrolled": true
   },
   "outputs": [
    {
     "data": {
      "text/html": [
       "<div>\n",
       "<style scoped>\n",
       "    .dataframe tbody tr th:only-of-type {\n",
       "        vertical-align: middle;\n",
       "    }\n",
       "\n",
       "    .dataframe tbody tr th {\n",
       "        vertical-align: top;\n",
       "    }\n",
       "\n",
       "    .dataframe thead th {\n",
       "        text-align: right;\n",
       "    }\n",
       "</style>\n",
       "<table border=\"1\" class=\"dataframe\">\n",
       "  <thead>\n",
       "    <tr style=\"text-align: right;\">\n",
       "      <th>stochastic</th>\n",
       "      <th>False</th>\n",
       "      <th>True</th>\n",
       "    </tr>\n",
       "    <tr>\n",
       "      <th>name</th>\n",
       "      <th></th>\n",
       "      <th></th>\n",
       "    </tr>\n",
       "  </thead>\n",
       "  <tbody>\n",
       "    <tr>\n",
       "      <th>bgnn</th>\n",
       "      <td>0.509 ± 0.008</td>\n",
       "      <td>0.521 ± 0.006</td>\n",
       "    </tr>\n",
       "    <tr>\n",
       "      <th>mgbdt</th>\n",
       "      <td>0.503 ± 0.012</td>\n",
       "      <td>0.520 ± 0.010</td>\n",
       "    </tr>\n",
       "  </tbody>\n",
       "</table>\n",
       "</div>"
      ],
      "text/plain": [
       "stochastic          False          True \n",
       "name                                    \n",
       "bgnn        0.509 ± 0.008  0.521 ± 0.006\n",
       "mgbdt       0.503 ± 0.012  0.520 ± 0.010"
      ]
     },
     "execution_count": 74,
     "metadata": {},
     "output_type": "execute_result"
    }
   ],
   "source": [
    "comparison_dataset"
   ]
  },
  {
   "cell_type": "markdown",
   "id": "hearing-prisoner",
   "metadata": {},
   "source": [
    "vk"
   ]
  },
  {
   "cell_type": "code",
   "execution_count": 24,
   "id": "checked-mystery",
   "metadata": {},
   "outputs": [],
   "source": [
    "MGBDT_seed_path = '/home/Container/tgnn/scripts/experimental_sripts/results5/vk/MGBDT/seed_results.json'"
   ]
  },
  {
   "cell_type": "code",
   "execution_count": 32,
   "id": "systematic-combination",
   "metadata": {},
   "outputs": [],
   "source": [
    "with open(MGBDT_seed_path, 'r') as fp:\n",
    "    mgbdt_seed = json.load(fp)"
   ]
  },
  {
   "cell_type": "code",
   "execution_count": 33,
   "id": "sophisticated-waterproof",
   "metadata": {
    "scrolled": false
   },
   "outputs": [],
   "source": [
    "mgbdt_inductive = aggregate_results(MGBDT_seed_path, 'regression', bgnn_style=False)"
   ]
  },
  {
   "cell_type": "code",
   "execution_count": 34,
   "id": "artistic-herald",
   "metadata": {
    "scrolled": true
   },
   "outputs": [
    {
     "data": {
      "text/plain": [
       "{'MGBDT_gat_stochasticTrue': (7.275424861907959, 0.24046395340996732),\n",
       " 'MGBDT_gat_stochasticFalse': (7.07205810546875, 0.18975744858950058)}"
      ]
     },
     "execution_count": 34,
     "metadata": {},
     "output_type": "execute_result"
    }
   ],
   "source": [
    "mgbdt_inductive"
   ]
  },
  {
   "cell_type": "code",
   "execution_count": 28,
   "id": "coupled-newfoundland",
   "metadata": {},
   "outputs": [
    {
     "data": {
      "text/plain": [
       "{'bgnn_gat_0.0_10_True_0.01': (7.162677860260009, 0.19624624916142674),\n",
       " 'bgnn_gat_0.0_10_True_0.1': (7.0485235214233395, 0.2226967091553703),\n",
       " 'bgnn_gat_0.0_20_True_0.01': (7.059543132781982, 0.24252210131968369),\n",
       " 'bgnn_gat_0.0_20_True_0.1': (7.070311546325684, 0.20718771938770614)}"
      ]
     },
     "execution_count": 28,
     "metadata": {},
     "output_type": "execute_result"
    }
   ],
   "source": [
    "BGNN_inductive_path = '/home/Container/tgnn/scripts/experimental_sripts/results5/bgnn_inductive_vk/seed_results.json'\n",
    "\n",
    "bgnn_inductive = aggregate_results(BGNN_inductive_path, 'regression', bgnn_style=True)\n",
    "\n",
    "bgnn_inductive"
   ]
  },
  {
   "cell_type": "code",
   "execution_count": 29,
   "id": "basic-convergence",
   "metadata": {},
   "outputs": [
    {
     "data": {
      "text/plain": [
       "{'bgnn_gat_0.0_10_True_0.01': (7.325751900672913, 0.15202962978540083),\n",
       " 'bgnn_gat_0.0_10_True_0.1': (7.177747368812561, 0.1714004056219756),\n",
       " 'bgnn_gat_0.0_20_True_0.01': (7.207948565483093, 0.09941180257528943),\n",
       " 'bgnn_gat_0.0_20_True_0.1': (7.3514004945755005, 0.19980945041256623)}"
      ]
     },
     "execution_count": 29,
     "metadata": {},
     "output_type": "execute_result"
    }
   ],
   "source": [
    "BGNN_inductive_path = '/home/Container/tgnn/scripts/experimental_sripts/results5/bgnn_stochastic_vk/seed_results.json'\n",
    "\n",
    "bgnn_inductive = aggregate_results(BGNN_inductive_path, 'regression', bgnn_style=True)\n",
    "\n",
    "bgnn_inductive"
   ]
  },
  {
   "cell_type": "markdown",
   "id": "thorough-seventh",
   "metadata": {},
   "source": [
    "County"
   ]
  },
  {
   "cell_type": "code",
   "execution_count": 37,
   "id": "contained-elite",
   "metadata": {},
   "outputs": [],
   "source": [
    "MGBDT_seed_path = '/home/Container/tgnn/scripts/experimental_sripts/results5/county/MGBDT/seed_results.json'"
   ]
  },
  {
   "cell_type": "code",
   "execution_count": 38,
   "id": "healthy-polls",
   "metadata": {},
   "outputs": [],
   "source": [
    "with open(MGBDT_seed_path, 'r') as fp:\n",
    "    mgbdt_seed = json.load(fp)"
   ]
  },
  {
   "cell_type": "code",
   "execution_count": 39,
   "id": "prepared-hindu",
   "metadata": {
    "scrolled": false
   },
   "outputs": [],
   "source": [
    "mgbdt_inductive = aggregate_results(MGBDT_seed_path, 'regression', bgnn_style=False)"
   ]
  },
  {
   "cell_type": "code",
   "execution_count": 40,
   "id": "legal-egyptian",
   "metadata": {
    "scrolled": false
   },
   "outputs": [
    {
     "data": {
      "text/plain": [
       "{'MGBDT_gat_stochasticTrue': (1.2650351762771606, 0.08556441558410788),\n",
       " 'MGBDT_gat_stochasticFalse': (1.2635552644729615, 0.08000110461546117)}"
      ]
     },
     "execution_count": 40,
     "metadata": {},
     "output_type": "execute_result"
    }
   ],
   "source": [
    "mgbdt_inductive"
   ]
  },
  {
   "cell_type": "code",
   "execution_count": 107,
   "id": "chief-skiing",
   "metadata": {},
   "outputs": [
    {
     "data": {
      "text/plain": [
       "{'bgnn_gat_0.0_10_True_0.01': (1.3660707950592041, 0.07767713492701012),\n",
       " 'bgnn_gat_0.0_10_True_0.1': (1.254335641860962, 0.0925147602426247),\n",
       " 'bgnn_gat_0.0_20_True_0.01': (1.3573012828826905, 0.06464998149679756),\n",
       " 'bgnn_gat_0.0_20_True_0.1': (1.2492810487747192, 0.07656475912954763)}"
      ]
     },
     "execution_count": 107,
     "metadata": {},
     "output_type": "execute_result"
    }
   ],
   "source": [
    "BGNN_inductive_path = '/home/Container/tgnn/scripts/experimental_sripts/results5/bgnn_inductive_county/seed_results.json'\n",
    "\n",
    "bgnn_inductive = aggregate_results(BGNN_inductive_path, 'regression', bgnn_style=True)\n",
    "\n",
    "bgnn_inductive"
   ]
  },
  {
   "cell_type": "code",
   "execution_count": 106,
   "id": "molecular-berry",
   "metadata": {},
   "outputs": [
    {
     "data": {
      "text/plain": [
       "{'bgnn_gat_0.0_10_True_0.01': (1.3916901111602784, 0.054627868169395924),\n",
       " 'bgnn_gat_0.0_10_True_0.1': (1.333960509300232, 0.09694625149917724),\n",
       " 'bgnn_gat_0.0_20_True_0.01': (1.3390099287033081, 0.07466100097436741),\n",
       " 'bgnn_gat_0.0_20_True_0.1': (1.3117615938186646, 0.10005620911411839)}"
      ]
     },
     "execution_count": 106,
     "metadata": {},
     "output_type": "execute_result"
    }
   ],
   "source": [
    "BGNN_stochastic_path = '/home/Container/tgnn/scripts/experimental_sripts/results5/bgnn_stochastic_county/seed_results.json'\n",
    "\n",
    "bgnn_inductive = aggregate_results(BGNN_stochastic_path, 'regression', bgnn_style=True)\n",
    "\n",
    "bgnn_inductive"
   ]
  }
 ],
 "metadata": {
  "kernelspec": {
   "display_name": "bgnn_env",
   "language": "python",
   "name": "bgnn_env"
  },
  "language_info": {
   "codemirror_mode": {
    "name": "ipython",
    "version": 3
   },
   "file_extension": ".py",
   "mimetype": "text/x-python",
   "name": "python",
   "nbconvert_exporter": "python",
   "pygments_lexer": "ipython3",
   "version": "3.6.9"
  }
 },
 "nbformat": 4,
 "nbformat_minor": 5
}
