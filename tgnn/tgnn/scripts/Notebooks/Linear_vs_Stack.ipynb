{
 "cells": [
  {
   "cell_type": "code",
   "execution_count": 2,
   "metadata": {},
   "outputs": [],
   "source": [
    "%config Completer.use_jedi = False\n",
    "%load_ext autoreload\n",
    "%autoreload 2"
   ]
  },
  {
   "cell_type": "code",
   "execution_count": 27,
   "metadata": {},
   "outputs": [],
   "source": [
    "import os, sys\n",
    "import seaborn as sns\n",
    "import numpy as np\n",
    "from collections import defaultdict"
   ]
  },
  {
   "cell_type": "code",
   "execution_count": 4,
   "metadata": {},
   "outputs": [
    {
     "name": "stderr",
     "output_type": "stream",
     "text": [
      "Using backend: pytorch\n"
     ]
    }
   ],
   "source": [
    "import matplotlib.pyplot as plt\n",
    "\n",
    "sys.path.append('../experimental_sripts')\n",
    "\n",
    "sys.path.append('/home/Container/tgnn/scripts/Models/BGNN_extended.py')\n",
    "\n",
    "import pandas as pd\n",
    "import json\n",
    "\n",
    "from run import aggregate_results, get_name"
   ]
  },
  {
   "cell_type": "code",
   "execution_count": 5,
   "metadata": {},
   "outputs": [],
   "source": [
    "with open('/home/Container/tgnn/scripts/experimental_sripts/results4/house/MGBDT/seed_results.json', 'r') as fp:\n",
    "    MGBDT_seed = json.load(fp)"
   ]
  },
  {
   "cell_type": "code",
   "execution_count": 48,
   "metadata": {},
   "outputs": [],
   "source": [
    "def filter_dict(ddict, filt):\n",
    "    return {key:ddict[key] for key in filter(lambda x: filt in x, ddict)}"
   ]
  },
  {
   "cell_type": "code",
   "execution_count": 49,
   "metadata": {
    "scrolled": true
   },
   "outputs": [],
   "source": [
    "house_results = aggregate_results('../experimental_sripts/results4/house/MGBDT/seed_results.json', 'regression', filt='pretrain_option')"
   ]
  },
  {
   "cell_type": "code",
   "execution_count": 50,
   "metadata": {},
   "outputs": [],
   "source": [
    "house_results = filter_dict(house_results, '[6, 4]')"
   ]
  },
  {
   "cell_type": "code",
   "execution_count": 51,
   "metadata": {
    "scrolled": true
   },
   "outputs": [],
   "source": [
    "vk_results = aggregate_results('../experimental_sripts/results4/vk/MGBDT/seed_results.json',\\\n",
    "                  'regression', filt='pretrain_option')"
   ]
  },
  {
   "cell_type": "code",
   "execution_count": 52,
   "metadata": {},
   "outputs": [],
   "source": [
    "vk_results = filter_dict(vk_results, '[14, 4]')"
   ]
  },
  {
   "cell_type": "code",
   "execution_count": 55,
   "metadata": {
    "scrolled": true
   },
   "outputs": [],
   "source": [
    "county_results = aggregate_results('../experimental_sripts/results4/county/MGBDT/seed_results.json',\\\n",
    "                  'regression', filt='pretrain_option')"
   ]
  },
  {
   "cell_type": "code",
   "execution_count": 56,
   "metadata": {},
   "outputs": [],
   "source": [
    "county_results = filter_dict(county_results, '[7, 4]')"
   ]
  },
  {
   "cell_type": "code",
   "execution_count": 58,
   "metadata": {},
   "outputs": [],
   "source": [
    "comparison_data = {'county':county_results,\n",
    "                  'vk':vk_results,\n",
    "                  'house':house_results}"
   ]
  },
  {
   "cell_type": "code",
   "execution_count": 64,
   "metadata": {},
   "outputs": [],
   "source": [
    "strfy = lambda x: f'{x:.3f}'"
   ]
  },
  {
   "cell_type": "code",
   "execution_count": 70,
   "metadata": {},
   "outputs": [],
   "source": [
    "comparison_dataset = defaultdict(list)\n",
    "for dataset in comparison_data:\n",
    "    for key, (mean, std) in comparison_data[dataset].items():\n",
    "        options = key.split('_')\n",
    "        comparison_dataset['pre_learn_option'] += [options[-2]\\\n",
    "                                        if eval(options[-1]) else 'None']\n",
    "        comparison_dataset['dataset'] += [dataset]\n",
    "        comparison_dataset['rmse'] += [strfy(mean) + ' ± ' + strfy(std)]"
   ]
  },
  {
   "cell_type": "code",
   "execution_count": 76,
   "metadata": {},
   "outputs": [],
   "source": [
    "comparison_dataset = pd.DataFrame(comparison_dataset)"
   ]
  },
  {
   "cell_type": "code",
   "execution_count": 79,
   "metadata": {},
   "outputs": [],
   "source": [
    "def highlight_min(s):\n",
    "#     import pdb; pdb.set_trace()\n",
    "    s = s.apply(lambda x : float(x.split(' ')[0]))\n",
    "    return ['color: green' if i == 1 else 'color: balck' for i in s.rank(method='dense')]"
   ]
  },
  {
   "cell_type": "code",
   "execution_count": 80,
   "metadata": {},
   "outputs": [
    {
     "data": {
      "text/html": [
       "<style  type=\"text/css\" >\n",
       "#T_155cba6c_a21e_11eb_a733_0242ac110002row0_col0,#T_155cba6c_a21e_11eb_a733_0242ac110002row0_col1,#T_155cba6c_a21e_11eb_a733_0242ac110002row0_col2,#T_155cba6c_a21e_11eb_a733_0242ac110002row1_col0,#T_155cba6c_a21e_11eb_a733_0242ac110002row1_col1,#T_155cba6c_a21e_11eb_a733_0242ac110002row1_col2{\n",
       "            color:  balck;\n",
       "        }#T_155cba6c_a21e_11eb_a733_0242ac110002row2_col0,#T_155cba6c_a21e_11eb_a733_0242ac110002row2_col1,#T_155cba6c_a21e_11eb_a733_0242ac110002row2_col2{\n",
       "            color:  green;\n",
       "        }</style><table id=\"T_155cba6c_a21e_11eb_a733_0242ac110002\" ><thead>    <tr>        <th class=\"index_name level0\" >dataset</th>        <th class=\"col_heading level0 col0\" >county</th>        <th class=\"col_heading level0 col1\" >house</th>        <th class=\"col_heading level0 col2\" >vk</th>    </tr>    <tr>        <th class=\"index_name level0\" >pre_learn_option</th>        <th class=\"blank\" ></th>        <th class=\"blank\" ></th>        <th class=\"blank\" ></th>    </tr></thead><tbody>\n",
       "                <tr>\n",
       "                        <th id=\"T_155cba6c_a21e_11eb_a733_0242ac110002level0_row0\" class=\"row_heading level0 row0\" >None</th>\n",
       "                        <td id=\"T_155cba6c_a21e_11eb_a733_0242ac110002row0_col0\" class=\"data row0 col0\" >1.285 ± 0.107</td>\n",
       "                        <td id=\"T_155cba6c_a21e_11eb_a733_0242ac110002row0_col1\" class=\"data row0 col1\" >0.548 ± 0.019</td>\n",
       "                        <td id=\"T_155cba6c_a21e_11eb_a733_0242ac110002row0_col2\" class=\"data row0 col2\" >6.970 ± 0.194</td>\n",
       "            </tr>\n",
       "            <tr>\n",
       "                        <th id=\"T_155cba6c_a21e_11eb_a733_0242ac110002level0_row1\" class=\"row_heading level0 row1\" >linear</th>\n",
       "                        <td id=\"T_155cba6c_a21e_11eb_a733_0242ac110002row1_col0\" class=\"data row1 col0\" >1.267 ± 0.087</td>\n",
       "                        <td id=\"T_155cba6c_a21e_11eb_a733_0242ac110002row1_col1\" class=\"data row1 col1\" >0.521 ± 0.008</td>\n",
       "                        <td id=\"T_155cba6c_a21e_11eb_a733_0242ac110002row1_col2\" class=\"data row1 col2\" >7.004 ± 0.183</td>\n",
       "            </tr>\n",
       "            <tr>\n",
       "                        <th id=\"T_155cba6c_a21e_11eb_a733_0242ac110002level0_row2\" class=\"row_heading level0 row2\" >stack</th>\n",
       "                        <td id=\"T_155cba6c_a21e_11eb_a733_0242ac110002row2_col0\" class=\"data row2 col0\" >1.249 ± 0.081</td>\n",
       "                        <td id=\"T_155cba6c_a21e_11eb_a733_0242ac110002row2_col1\" class=\"data row2 col1\" >0.518 ± 0.008</td>\n",
       "                        <td id=\"T_155cba6c_a21e_11eb_a733_0242ac110002row2_col2\" class=\"data row2 col2\" >6.915 ± 0.227</td>\n",
       "            </tr>\n",
       "    </tbody></table>"
      ],
      "text/plain": [
       "<pandas.io.formats.style.Styler at 0x7f7029570d30>"
      ]
     },
     "execution_count": 80,
     "metadata": {},
     "output_type": "execute_result"
    }
   ],
   "source": [
    "comparison_dataset.pivot('pre_learn_option', 'dataset', 'rmse').style.apply(highlight_min)"
   ]
  }
 ],
 "metadata": {
  "kernelspec": {
   "display_name": "bgnn_env",
   "language": "python",
   "name": "bgnn_env"
  },
  "language_info": {
   "codemirror_mode": {
    "name": "ipython",
    "version": 3
   },
   "file_extension": ".py",
   "mimetype": "text/x-python",
   "name": "python",
   "nbconvert_exporter": "python",
   "pygments_lexer": "ipython3",
   "version": "3.6.9"
  }
 },
 "nbformat": 4,
 "nbformat_minor": 2
}
