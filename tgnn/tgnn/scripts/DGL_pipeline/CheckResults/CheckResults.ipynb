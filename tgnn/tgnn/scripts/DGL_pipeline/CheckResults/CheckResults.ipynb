{
 "cells": [
  {
   "cell_type": "code",
   "execution_count": 1,
   "metadata": {},
   "outputs": [],
   "source": [
    "%load_ext autoreload\n",
    "%autoreload 2"
   ]
  },
  {
   "cell_type": "code",
   "execution_count": 2,
   "metadata": {},
   "outputs": [
    {
     "name": "stderr",
     "output_type": "stream",
     "text": [
      "Using backend: pytorch\n"
     ]
    }
   ],
   "source": [
    "import os, sys\n",
    "sys.path.append('../')\n",
    "import configparser\n",
    "from sage_tabular_model import SAGE_tabular\n",
    "import dgl\n",
    "import dgl.nn as dglnn\n",
    "import torch\n",
    "import torch.nn as nn\n",
    "import torch.nn.functional as F\n",
    "import pickle as pk\n",
    "import pandas as pd\n",
    "import numpy  as np\n",
    "from dataset_preprocessor import DataPreprocessor\n",
    "import pandas as pd\n",
    "import seaborn as sns"
   ]
  },
  {
   "cell_type": "code",
   "execution_count": 3,
   "metadata": {},
   "outputs": [],
   "source": [
    "working_folder = '/home/jovyan/upamo-storage/Alexey_jr/geo2vec/GCN/DGL_pipeline/CheckResults'"
   ]
  },
  {
   "cell_type": "code",
   "execution_count": 4,
   "metadata": {},
   "outputs": [],
   "source": [
    "dataset = pd.read_pickle(f'{working_folder}/test_data.pkl')"
   ]
  },
  {
   "cell_type": "code",
   "execution_count": 4,
   "metadata": {},
   "outputs": [
    {
     "data": {
      "text/plain": [
       "count     113.000000\n",
       "mean      337.626174\n",
       "std       456.374411\n",
       "min        19.044155\n",
       "25%        93.917360\n",
       "50%       144.798178\n",
       "75%       311.961863\n",
       "max      2273.547256\n",
       "Name: y_cred, dtype: float64"
      ]
     },
     "execution_count": 4,
     "metadata": {},
     "output_type": "execute_result"
    }
   ],
   "source": [
    "dataset['y_cred'].describe()"
   ]
  },
  {
   "cell_type": "code",
   "execution_count": 5,
   "metadata": {},
   "outputs": [
    {
     "name": "stderr",
     "output_type": "stream",
     "text": [
      "/home/virtual_envs/gcn_libs/lib/python3.8/site-packages/seaborn/distributions.py:2551: FutureWarning: `distplot` is a deprecated function and will be removed in a future version. Please adapt your code to use either `displot` (a figure-level function with similar flexibility) or `histplot` (an axes-level function for histograms).\n",
      "  warnings.warn(msg, FutureWarning)\n"
     ]
    },
    {
     "data": {
      "text/plain": [
       "<AxesSubplot:xlabel='y_cred', ylabel='Density'>"
      ]
     },
     "execution_count": 5,
     "metadata": {},
     "output_type": "execute_result"
    },
    {
     "data": {
      "image/png": "[encoded data removed]",
      "text/plain": [
       "<Figure size 432x288 with 1 Axes>"
      ]
     },
     "metadata": {
      "needs_background": "light"
     },
     "output_type": "display_data"
    }
   ],
   "source": [
    "sns.distplot(dataset['y_cred'])"
   ]
  },
  {
   "cell_type": "code",
   "execution_count": 4,
   "metadata": {},
   "outputs": [],
   "source": [
    "with open(f'{working_folder}/../selected_feats.pkl', 'rb') as fp: \n",
    "    feat_cols = pk.load(fp)\n",
    "with open(f'{working_folder}/../selected_cats.pkl', 'rb') as fp: \n",
    "    cat_cols = pk.load(fp)"
   ]
  },
  {
   "cell_type": "code",
   "execution_count": 5,
   "metadata": {},
   "outputs": [],
   "source": [
    "from sklearn.metrics import mean_absolute_percentage_error, mean_absolute_error, mean_squared_error"
   ]
  },
  {
   "cell_type": "code",
   "execution_count": 6,
   "metadata": {},
   "outputs": [],
   "source": [
    "import os"
   ]
  },
  {
   "cell_type": "code",
   "execution_count": 7,
   "metadata": {},
   "outputs": [],
   "source": [
    "from tqdm import tqdm \n",
    "from collections import defaultdict"
   ]
  },
  {
   "cell_type": "code",
   "execution_count": 8,
   "metadata": {},
   "outputs": [],
   "source": [
    "def smape(A, F):\n",
    "    return 100/len(A) * np.sum(2 * np.abs(F - A) / (np.abs(A) + np.abs(F)))"
   ]
  },
  {
   "cell_type": "code",
   "execution_count": 9,
   "metadata": {
    "collapsed": true,
    "jupyter": {
     "outputs_hidden": true
    },
    "tags": []
   },
   "outputs": [
    {
     "name": "stderr",
     "output_type": "stream",
     "text": [
      "  0%|          | 0/5 [00:00<?, ?it/s]\n",
      "  0%|          | 0/3 [00:00<?, ?it/s]\u001b[A\n",
      " 33%|███▎      | 1/3 [01:02<02:04, 62.46s/it]\u001b[A\n",
      " 67%|██████▋   | 2/3 [02:02<01:01, 61.66s/it]\u001b[A\n",
      "100%|██████████| 3/3 [02:49<00:00, 57.45s/it]\u001b[A\n",
      " 20%|██        | 1/5 [02:49<11:19, 169.89s/it][A\n",
      "  0%|          | 0/3 [00:00<?, ?it/s]\u001b[A\n",
      " 33%|███▎      | 1/3 [00:39<01:18, 39.48s/it]\u001b[A\n",
      " 67%|██████▋   | 2/3 [01:18<00:39, 39.20s/it]\u001b[A\n",
      "100%|██████████| 3/3 [02:08<00:00, 42.65s/it]\u001b[A\n",
      " 40%|████      | 2/5 [04:58<07:52, 157.54s/it][A\n",
      "  0%|          | 0/3 [00:00<?, ?it/s]\u001b[A\n",
      " 33%|███▎      | 1/3 [00:43<01:27, 43.56s/it]\u001b[A\n",
      " 67%|██████▋   | 2/3 [01:22<00:42, 42.20s/it]\u001b[A\n",
      "100%|██████████| 3/3 [02:00<00:00, 40.93s/it]\u001b[A\n",
      " 60%|██████    | 3/5 [06:59<04:52, 146.44s/it][A\n",
      "  0%|          | 0/3 [00:00<?, ?it/s]\u001b[A\n",
      " 33%|███▎      | 1/3 [00:42<01:25, 42.60s/it]\u001b[A\n",
      " 67%|██████▋   | 2/3 [01:22<00:41, 41.91s/it]\u001b[A\n",
      "100%|██████████| 3/3 [02:01<00:00, 41.04s/it]\u001b[A\n",
      " 80%|████████  | 4/5 [09:01<02:19, 139.08s/it][A\n",
      "  0%|          | 0/3 [00:00<?, ?it/s]\u001b[A\n",
      " 33%|███▎      | 1/3 [00:45<01:31, 45.60s/it]\u001b[A\n",
      " 67%|██████▋   | 2/3 [01:27<00:44, 44.59s/it]\u001b[A\n",
      "100%|██████████| 3/3 [02:04<00:00, 42.29s/it]\u001b[A\n",
      "100%|██████████| 5/5 [11:05<00:00, 133.17s/it][A\n"
     ]
    }
   ],
   "source": [
    "# mape = []\n",
    "# mae = []\n",
    "# mse = []\n",
    "# smapes = []\n",
    "result = defaultdict(list)\n",
    "targets = ['y_cred', 'y_deps_delta', 'y_comm']\n",
    "for i in tqdm(range(5)):\n",
    "    for target in tqdm(targets, leave=False):\n",
    "        pred_y_cred = pd.read_pickle(f'{working_folder}/model_folder/model{i}_{target}/pred_{target}.pkl')\n",
    "        test_data = pd.read_pickle(f'{working_folder}/folds/test{i}')\n",
    "        res = test_data[[target, 'num']].merge(pred_y_cred, on='num')\n",
    "        result['mape'] += [mean_absolute_percentage_error(res[target].values, res['pred'].values)]\n",
    "        result['mae'] += [mean_absolute_error(res[target].values, res['pred'].values)]\n",
    "        result['mse'] += [mean_squared_error(res[target].values, res['pred'].values)]\n",
    "        result['smapes'] += [smape(res[target].values, res['pred'].values)]\n",
    "        result['targ'] += [target]"
   ]
  },
  {
   "cell_type": "code",
   "execution_count": 10,
   "metadata": {},
   "outputs": [],
   "source": [
    "res = pd.DataFrame(result)"
   ]
  },
  {
   "cell_type": "code",
   "execution_count": 11,
   "metadata": {},
   "outputs": [],
   "source": [
    "kwargs = {i+'_mean':pd.NamedAgg(i, aggfunc='mean') for i in ['mape','mae','mse','smapes']}\n",
    "kwargs.update({i+'_std':pd.NamedAgg(i, aggfunc='std') for i in ['mape','mae','mse','smapes']})"
   ]
  },
  {
   "cell_type": "code",
   "execution_count": 12,
   "metadata": {},
   "outputs": [],
   "source": [
    "res = res.groupby('targ').agg(**kwargs)"
   ]
  },
  {
   "cell_type": "code",
   "execution_count": 13,
   "metadata": {},
   "outputs": [],
   "source": [
    "res.to_pickle('results_fcnn_sage.pkl')"
   ]
  },
  {
   "cell_type": "code",
   "execution_count": 14,
   "metadata": {},
   "outputs": [
    {
     "data": {
      "text/html": [
       "<div>\n",
       "<style scoped>\n",
       "    .dataframe tbody tr th:only-of-type {\n",
       "        vertical-align: middle;\n",
       "    }\n",
       "\n",
       "    .dataframe tbody tr th {\n",
       "        vertical-align: top;\n",
       "    }\n",
       "\n",
       "    .dataframe thead th {\n",
       "        text-align: right;\n",
       "    }\n",
       "</style>\n",
       "<table border=\"1\" class=\"dataframe\">\n",
       "  <thead>\n",
       "    <tr style=\"text-align: right;\">\n",
       "      <th></th>\n",
       "      <th>mape_mean</th>\n",
       "      <th>mae_mean</th>\n",
       "      <th>mse_mean</th>\n",
       "      <th>smapes_mean</th>\n",
       "      <th>mape_std</th>\n",
       "      <th>mae_std</th>\n",
       "      <th>mse_std</th>\n",
       "      <th>smapes_std</th>\n",
       "    </tr>\n",
       "    <tr>\n",
       "      <th>targ</th>\n",
       "      <th></th>\n",
       "      <th></th>\n",
       "      <th></th>\n",
       "      <th></th>\n",
       "      <th></th>\n",
       "      <th></th>\n",
       "      <th></th>\n",
       "      <th></th>\n",
       "    </tr>\n",
       "  </thead>\n",
       "  <tbody>\n",
       "    <tr>\n",
       "      <th>y_comm</th>\n",
       "      <td>0.886635</td>\n",
       "      <td>25.844818</td>\n",
       "      <td>1657.177438</td>\n",
       "      <td>162.304053</td>\n",
       "      <td>0.118728</td>\n",
       "      <td>3.235890</td>\n",
       "      <td>341.304789</td>\n",
       "      <td>31.895845</td>\n",
       "    </tr>\n",
       "    <tr>\n",
       "      <th>y_cred</th>\n",
       "      <td>0.920610</td>\n",
       "      <td>326.850319</td>\n",
       "      <td>362051.306852</td>\n",
       "      <td>172.710425</td>\n",
       "      <td>0.034590</td>\n",
       "      <td>62.263923</td>\n",
       "      <td>190997.416176</td>\n",
       "      <td>11.083717</td>\n",
       "    </tr>\n",
       "    <tr>\n",
       "      <th>y_deps_delta</th>\n",
       "      <td>1.110754</td>\n",
       "      <td>236.754148</td>\n",
       "      <td>583193.673187</td>\n",
       "      <td>165.887707</td>\n",
       "      <td>0.186131</td>\n",
       "      <td>73.399482</td>\n",
       "      <td>807404.286456</td>\n",
       "      <td>12.285009</td>\n",
       "    </tr>\n",
       "  </tbody>\n",
       "</table>\n",
       "</div>"
      ],
      "text/plain": [
       "              mape_mean    mae_mean       mse_mean  smapes_mean  mape_std  \\\n",
       "targ                                                                        \n",
       "y_comm         0.886635   25.844818    1657.177438   162.304053  0.118728   \n",
       "y_cred         0.920610  326.850319  362051.306852   172.710425  0.034590   \n",
       "y_deps_delta   1.110754  236.754148  583193.673187   165.887707  0.186131   \n",
       "\n",
       "                mae_std        mse_std  smapes_std  \n",
       "targ                                                \n",
       "y_comm         3.235890     341.304789   31.895845  \n",
       "y_cred        62.263923  190997.416176   11.083717  \n",
       "y_deps_delta  73.399482  807404.286456   12.285009  "
      ]
     },
     "execution_count": 14,
     "metadata": {},
     "output_type": "execute_result"
    }
   ],
   "source": [
    "res"
   ]
  }
 ],
 "metadata": {
  "kernelspec": {
   "display_name": "gcn_libs",
   "language": "python",
   "name": "gcn_libs"
  },
  "language_info": {
   "codemirror_mode": {
    "name": "ipython",
    "version": 3
   },
   "file_extension": ".py",
   "mimetype": "text/x-python",
   "name": "python",
   "nbconvert_exporter": "python",
   "pygments_lexer": "ipython3",
   "version": "3.8.5"
  }
 },
 "nbformat": 4,
 "nbformat_minor": 4
}
