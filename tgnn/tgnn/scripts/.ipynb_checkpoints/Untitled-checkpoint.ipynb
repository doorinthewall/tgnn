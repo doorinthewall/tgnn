{
 "cells": [
  {
   "cell_type": "code",
   "execution_count": 1,
   "metadata": {
    "scrolled": true
   },
   "outputs": [],
   "source": [
    "%config Completer.use_jedi = False\n",
    "%load_ext autoreload\n",
    "%autoreload 2"
   ]
  },
  {
   "cell_type": "code",
   "execution_count": 2,
   "metadata": {},
   "outputs": [
    {
     "name": "stderr",
     "output_type": "stream",
     "text": [
      "Using backend: pytorch\n"
     ]
    }
   ],
   "source": [
    "import os, sys \n",
    "sys.path.append('DGL_pipeline')\n",
    "from sage_tabular_model import SAGE_tabular\n",
    "import configparser\n",
    "import torch\n",
    "from data_utils import networkx_to_torch, normalize_features, replace_na, count_number_params\n",
    "import networkx as nx\n",
    "import dgl"
   ]
  },
  {
   "cell_type": "code",
   "execution_count": 3,
   "metadata": {},
   "outputs": [],
   "source": [
    "import configparser"
   ]
  },
  {
   "cell_type": "code",
   "execution_count": 57,
   "metadata": {},
   "outputs": [],
   "source": [
    "from sklearn.model_selection import ParameterGrid"
   ]
  },
  {
   "cell_type": "code",
   "execution_count": 76,
   "metadata": {},
   "outputs": [],
   "source": [
    "config_ = configparser.ConfigParser()\n",
    "config_.read('/home/Container/tgnn/scripts/experimental_sripts/hp_config.ini')\n",
    "config = config_"
   ]
  },
  {
   "cell_type": "code",
   "execution_count": 83,
   "metadata": {},
   "outputs": [],
   "source": [
    "config_option = 'Dense'"
   ]
  },
  {
   "cell_type": "code",
   "execution_count": 84,
   "metadata": {},
   "outputs": [],
   "source": [
    "tab_net_params = eval(config[config_option]['tab_net'])\n",
    "graph_net_params = eval(config[config_option]['graph_net'])"
   ]
  },
  {
   "cell_type": "code",
   "execution_count": 82,
   "metadata": {},
   "outputs": [
    {
     "data": {
      "text/plain": [
       "{'dims': [128, 128], 'cat_dims': 16, 'nclass': 128, 'layer_type': 'NODE'}"
      ]
     },
     "execution_count": 82,
     "metadata": {},
     "output_type": "execute_result"
    }
   ],
   "source": [
    "tab_net_params"
   ]
  },
  {
   "cell_type": "code",
   "execution_count": 81,
   "metadata": {
    "scrolled": false
   },
   "outputs": [
    {
     "ename": "TypeError",
     "evalue": "Parameter grid value is not iterable (key='cat_dims', value=16)",
     "output_type": "error",
     "traceback": [
      "\u001b[0;31m---------------------------------------------------------------------------\u001b[0m",
      "\u001b[0;31mTypeError\u001b[0m                                 Traceback (most recent call last)",
      "\u001b[0;32m<ipython-input-81-13b7092c0276>\u001b[0m in \u001b[0;36m<module>\u001b[0;34m\u001b[0m\n\u001b[0;32m----> 1\u001b[0;31m \u001b[0mgrid\u001b[0m \u001b[0;34m=\u001b[0m \u001b[0mParameterGrid\u001b[0m\u001b[0;34m(\u001b[0m\u001b[0mtab_net_params\u001b[0m\u001b[0;34m)\u001b[0m\u001b[0;34m\u001b[0m\u001b[0;34m\u001b[0m\u001b[0m\n\u001b[0m",
      "\u001b[0;32m/home/Container/envs/bgnn_env/lib/python3.6/site-packages/sklearn/model_selection/_search.py\u001b[0m in \u001b[0;36m__init__\u001b[0;34m(self, param_grid)\u001b[0m\n\u001b[1;32m    112\u001b[0m                     raise TypeError('Parameter grid value is not iterable '\n\u001b[1;32m    113\u001b[0m                                     \u001b[0;34m'(key={!r}, value={!r})'\u001b[0m\u001b[0;34m\u001b[0m\u001b[0;34m\u001b[0m\u001b[0m\n\u001b[0;32m--> 114\u001b[0;31m                                     .format(key, grid[key]))\n\u001b[0m\u001b[1;32m    115\u001b[0m \u001b[0;34m\u001b[0m\u001b[0m\n\u001b[1;32m    116\u001b[0m         \u001b[0mself\u001b[0m\u001b[0;34m.\u001b[0m\u001b[0mparam_grid\u001b[0m \u001b[0;34m=\u001b[0m \u001b[0mparam_grid\u001b[0m\u001b[0;34m\u001b[0m\u001b[0;34m\u001b[0m\u001b[0m\n",
      "\u001b[0;31mTypeError\u001b[0m: Parameter grid value is not iterable (key='cat_dims', value=16)"
     ]
    }
   ],
   "source": [
    "grid = ParameterGrid(tab_net_params)"
   ]
  },
  {
   "cell_type": "code",
   "execution_count": 62,
   "metadata": {},
   "outputs": [
    {
     "data": {
      "text/plain": [
       "[{'batch_size': 64,\n",
       "  'gnn_passes_per_epoch': 10,\n",
       "  'graph_net': 'in_dim',\n",
       "  'sample_nn_size': 10,\n",
       "  'tab_net': 'dims'},\n",
       " {'batch_size': 64,\n",
       "  'gnn_passes_per_epoch': 10,\n",
       "  'graph_net': 'in_dim',\n",
       "  'sample_nn_size': 10,\n",
       "  'tab_net': 'layer_kwargs'},\n",
       " {'batch_size': 64,\n",
       "  'gnn_passes_per_epoch': 10,\n",
       "  'graph_net': 'hidden_dim',\n",
       "  'sample_nn_size': 10,\n",
       "  'tab_net': 'dims'},\n",
       " {'batch_size': 64,\n",
       "  'gnn_passes_per_epoch': 10,\n",
       "  'graph_net': 'hidden_dim',\n",
       "  'sample_nn_size': 10,\n",
       "  'tab_net': 'layer_kwargs'},\n",
       " {'batch_size': 64,\n",
       "  'gnn_passes_per_epoch': 10,\n",
       "  'graph_net': 'dropout',\n",
       "  'sample_nn_size': 10,\n",
       "  'tab_net': 'dims'},\n",
       " {'batch_size': 64,\n",
       "  'gnn_passes_per_epoch': 10,\n",
       "  'graph_net': 'dropout',\n",
       "  'sample_nn_size': 10,\n",
       "  'tab_net': 'layer_kwargs'}]"
      ]
     },
     "execution_count": 62,
     "metadata": {},
     "output_type": "execute_result"
    }
   ],
   "source": [
    "list(grid)"
   ]
  },
  {
   "cell_type": "code",
   "execution_count": 9,
   "metadata": {},
   "outputs": [],
   "source": [
    "_ = config['MGBDT']"
   ]
  },
  {
   "cell_type": "code",
   "execution_count": 12,
   "metadata": {},
   "outputs": [
    {
     "data": {
      "text/plain": [
       "configparser.SectionProxy"
      ]
     },
     "execution_count": 12,
     "metadata": {},
     "output_type": "execute_result"
    }
   ],
   "source": []
  },
  {
   "cell_type": "code",
   "execution_count": 4,
   "metadata": {},
   "outputs": [],
   "source": [
    "graph_path = '/home/Container/bgnn/datasets/house/graph.graphml'"
   ]
  },
  {
   "cell_type": "code",
   "execution_count": 5,
   "metadata": {},
   "outputs": [],
   "source": [
    "networkx_graph = nx.read_graphml(graph_path) \n",
    "networkx_graph = nx.relabel_nodes(networkx_graph, {str(i): i for i in range(len(networkx_graph))}) \n",
    "\n",
    "graph = networkx_to_torch(networkx_graph)"
   ]
  },
  {
   "cell_type": "code",
   "execution_count": 6,
   "metadata": {},
   "outputs": [],
   "source": [
    "sg = graph.subgraph([100, 200, 599])"
   ]
  },
  {
   "cell_type": "code",
   "execution_count": 7,
   "metadata": {},
   "outputs": [],
   "source": [
    "sampler = dgl.dataloading.MultiLayerFullNeighborSampler(1)\n",
    "nids = [100]\n",
    "dataloader = dgl.dataloading.NodeDataLoader(sg, [0,1,2], sampler, batch_size=128,\n",
    "                                        shuffle=False,\n",
    "                                        drop_last=False)"
   ]
  },
  {
   "cell_type": "code",
   "execution_count": 8,
   "metadata": {},
   "outputs": [
    {
     "name": "stdout",
     "output_type": "stream",
     "text": [
      "(tensor([0, 1, 2]), tensor([0, 1, 2]), [Block(num_src_nodes=3, num_dst_nodes=3, num_edges=3)])\n"
     ]
    }
   ],
   "source": [
    "for smth in dataloader:\n",
    "    print(smth)"
   ]
  },
  {
   "cell_type": "code",
   "execution_count": 10,
   "metadata": {},
   "outputs": [],
   "source": [
    "inp_nodes, _, blocks = next(iter(dataloader))"
   ]
  },
  {
   "cell_type": "code",
   "execution_count": 14,
   "metadata": {},
   "outputs": [],
   "source": [
    "b = blocks[0]"
   ]
  },
  {
   "cell_type": "code",
   "execution_count": 20,
   "metadata": {},
   "outputs": [
    {
     "data": {
      "text/plain": [
       "array([0, 1, 2])"
      ]
     },
     "execution_count": 20,
     "metadata": {},
     "output_type": "execute_result"
    }
   ],
   "source": [
    "inp_nodes.numpy()"
   ]
  },
  {
   "cell_type": "code",
   "execution_count": 28,
   "metadata": {},
   "outputs": [
    {
     "data": {
      "text/plain": [
       "[0, 1, 2]"
      ]
     },
     "execution_count": 28,
     "metadata": {},
     "output_type": "execute_result"
    }
   ],
   "source": [
    "dataloader.dataloader."
   ]
  },
  {
   "cell_type": "code",
   "execution_count": 26,
   "metadata": {},
   "outputs": [
    {
     "data": {
      "text/plain": [
       "tensor([100, 200, 599])"
      ]
     },
     "execution_count": 26,
     "metadata": {},
     "output_type": "execute_result"
    }
   ],
   "source": [
    "sg.ndata[dgl.NID][inp_nodes]"
   ]
  },
  {
   "cell_type": "code",
   "execution_count": 32,
   "metadata": {},
   "outputs": [
    {
     "data": {
      "text/plain": [
       "{'_ID': tensor([100, 200, 599])}"
      ]
     },
     "execution_count": 32,
     "metadata": {},
     "output_type": "execute_result"
    }
   ],
   "source": [
    "dataloader.collator.g.ndata"
   ]
  },
  {
   "cell_type": "code",
   "execution_count": 30,
   "metadata": {},
   "outputs": [
    {
     "data": {
      "text/plain": [
       "{'_N': {'_ID': tensor([0, 1, 2])}}"
      ]
     },
     "execution_count": 30,
     "metadata": {},
     "output_type": "execute_result"
    }
   ],
   "source": [
    "blocks[0].ndata"
   ]
  }
 ],
 "metadata": {
  "kernelspec": {
   "display_name": "bgnn_env",
   "language": "python",
   "name": "bgnn_env"
  },
  "language_info": {
   "codemirror_mode": {
    "name": "ipython",
    "version": 3
   },
   "file_extension": ".py",
   "mimetype": "text/x-python",
   "name": "python",
   "nbconvert_exporter": "python",
   "pygments_lexer": "ipython3",
   "version": "3.6.9"
  }
 },
 "nbformat": 4,
 "nbformat_minor": 5
}
